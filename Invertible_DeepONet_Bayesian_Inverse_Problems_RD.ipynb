{
 "cells": [
  {
   "cell_type": "code",
   "execution_count": 1,
   "metadata": {},
   "outputs": [],
   "source": [
    "# Code based on the physics-informed DeepONet implementation of Sifan Wang\n",
    "# https://github.com/PredictiveIntelligenceLab/Physics-informed-DeepONets"
   ]
  },
  {
   "cell_type": "code",
   "execution_count": 2,
   "metadata": {},
   "outputs": [],
   "source": [
    "import os\n",
    "os.environ[\"CUDA_VISIBLE_DEVICES\"]=\"1\""
   ]
  },
  {
   "cell_type": "code",
   "execution_count": 3,
   "metadata": {
    "id": "nY1RmvevXrp9"
   },
   "outputs": [],
   "source": [
    "import jax\n",
    "import jax.numpy as np\n",
    "from jax import random, grad, vmap, jit, hessian, lax\n",
    "from jax.example_libraries import optimizers\n",
    "from jax.nn import relu\n",
    "from jax.config import config\n",
    "from jax.flatten_util import ravel_pytree\n",
    "\n",
    "import itertools\n",
    "from functools import partial\n",
    "from torch.utils import data\n",
    "from tqdm import trange, tqdm\n",
    "import matplotlib.pyplot as plt\n",
    "\n",
    "from scipy.interpolate import griddata\n",
    "%matplotlib inline\n",
    "\n",
    "import numpy as onp\n",
    "from sklearn.mixture import GaussianMixture"
   ]
  },
  {
   "cell_type": "code",
   "execution_count": 4,
   "metadata": {},
   "outputs": [],
   "source": [
    "# RealNVP block\n",
    "def RealNVP(layers):\n",
    "    input_dim = layers[0]\n",
    "    split = input_dim // 2\n",
    "    layers[0] = split\n",
    "    _init, _apply = MLP_branch(layers)\n",
    "    def init(rng_key):\n",
    "        params = _init(rng_key)\n",
    "        return params\n",
    "    def apply(params, inputs):\n",
    "        lower = inputs[:split]\n",
    "        upper = inputs[split:]\n",
    "        s, t = _apply(params, lower).split(2)\n",
    "        upper = upper * np.exp(s) + t\n",
    "        outputs = np.concatenate([lower, upper])\n",
    "        return outputs\n",
    "    def invert(params, inputs):\n",
    "        lower = inputs[:split]\n",
    "        upper = inputs[split:]\n",
    "        s,t = _apply(params, lower).split(2)\n",
    "        upper = (upper - t) * np.exp(-s)\n",
    "        outputs = np.concatenate([lower, upper])\n",
    "        return outputs\n",
    "    def Jacobian(params, inputs):\n",
    "        lower = inputs[:split]\n",
    "        upper = inputs[split:]\n",
    "        s,t = _apply(params, lower).split(2)\n",
    "        return np.sum(s)\n",
    "    return init, apply, invert, Jacobian"
   ]
  },
  {
   "cell_type": "code",
   "execution_count": 5,
   "metadata": {},
   "outputs": [],
   "source": [
    "# Layer to reverse the states\n",
    "def Reverse(input_dim):\n",
    "    perm = np.arange(input_dim)[::-1]\n",
    "    def init(rng_key):\n",
    "        return ()\n",
    "    def apply(params, inputs):\n",
    "        return inputs[perm]\n",
    "    def invert(params, inputs):\n",
    "        return inputs[perm]\n",
    "    def Jacobian(params, inputs):\n",
    "        return 0.\n",
    "    return init, apply, invert,Jacobian"
   ]
  },
  {
   "cell_type": "code",
   "execution_count": 6,
   "metadata": {},
   "outputs": [],
   "source": [
    "# Stack of (RealNVP, Reverse) layers\n",
    "def Serial(*blocks):\n",
    "    def init(rng_key):\n",
    "        params = []\n",
    "        for (_init, _, _,_) in blocks:\n",
    "            rng_key, rng_subkey = random.split(rng_key)\n",
    "            params.append(_init(rng_subkey))\n",
    "        return params\n",
    "    def apply(params, inputs):\n",
    "        for i, (_, _apply, _,_) in enumerate(blocks):\n",
    "            inputs = _apply(params[i], inputs)\n",
    "        return inputs\n",
    "    def invert(params, inputs):\n",
    "        for i, (_, _, _invert,_) in enumerate(list(reversed(blocks))):\n",
    "            inputs = _invert(list(reversed(params))[i], inputs)\n",
    "        return inputs\n",
    "    def Jacobian(params, inputs):\n",
    "        Jac=0.\n",
    "        for i, (_, _apply, _,_Jacobian) in enumerate(blocks):\n",
    "            Jac += _Jacobian(params[i], inputs)\n",
    "            inputs = _apply(params[i], inputs)\n",
    "        return Jac\n",
    "    return init, apply, invert, Jacobian"
   ]
  },
  {
   "cell_type": "code",
   "execution_count": 7,
   "metadata": {},
   "outputs": [],
   "source": [
    "# MLP block\n",
    "def MLP_branch(layers, activation=np.tanh):\n",
    "  def init(rng_key):\n",
    "      def init_layer(key, d_in, d_out):\n",
    "          k1, k2 = random.split(key)\n",
    "          glorot_stddev = 0.1 / np.sqrt((d_in + d_out) / 2.)\n",
    "          W = glorot_stddev * random.normal(k1, (d_in, d_out))\n",
    "          b = np.zeros(d_out)\n",
    "          return W, b\n",
    "      key, *keys = random.split(rng_key, len(layers))\n",
    "      params = list(map(init_layer, keys, layers[:-1], layers[1:]))\n",
    "      return params\n",
    "  def apply(params, inputs):\n",
    "      for W, b in params[:-1]:\n",
    "          outputs = np.dot(inputs, W) + b\n",
    "          inputs = activation(outputs)\n",
    "      W, b = params[-1]\n",
    "      outputs = np.dot(inputs, W) + b\n",
    "      return outputs\n",
    "  return init, apply"
   ]
  },
  {
   "cell_type": "code",
   "execution_count": 8,
   "metadata": {
    "id": "ikWFHV5IX5lh"
   },
   "outputs": [],
   "source": [
    "# Data generator\n",
    "class DataGenerator(data.Dataset):\n",
    "    def __init__(self, u, y, s, \n",
    "                 batch_size=64, rng_key=random.PRNGKey(1234)):\n",
    "        'Initialization'\n",
    "        self.u = u # input sample\n",
    "        self.y = y # location\n",
    "        self.s = s # labeled data evulated at y (solution measurements, BC/IC conditions, etc.)\n",
    "        \n",
    "        self.N = u.shape[0]\n",
    "        self.batch_size = batch_size\n",
    "        self.key = rng_key\n",
    "\n",
    "    def __getitem__(self, index):\n",
    "        'Generate one batch of data'\n",
    "        self.key, subkey = random.split(self.key)\n",
    "        inputs, outputs = self.__data_generation(subkey)\n",
    "        return inputs, outputs\n",
    "\n",
    "    @partial(jit, static_argnums=(0,))\n",
    "    def __data_generation(self, key):\n",
    "        'Generates data containing batch_size samples'\n",
    "        idx = random.choice(key, self.N, (self.batch_size,), replace=False)\n",
    "        s = self.s[idx,:]\n",
    "        y = self.y[idx,:]\n",
    "        u = self.u[idx,:]\n",
    "        # Construct batch\n",
    "        inputs = (u, y)\n",
    "        outputs = s\n",
    "        return inputs, outputs"
   ]
  },
  {
   "cell_type": "code",
   "execution_count": 9,
   "metadata": {
    "id": "R4tCyvLs7luG"
   },
   "outputs": [],
   "source": [
    "# Define the neural net\n",
    "def MLP(layers, activation=relu):\n",
    "  ''' Vanilla MLP'''\n",
    "  def init(rng_key):\n",
    "      def init_layer(key, d_in, d_out):\n",
    "          k1, k2 = random.split(key)\n",
    "          glorot_stddev = 1. / np.sqrt((d_in + d_out) / 2.)\n",
    "          W = glorot_stddev * random.normal(k1, (d_in, d_out))\n",
    "          b = np.zeros(d_out)\n",
    "          return W, b\n",
    "      key, *keys = random.split(rng_key, len(layers))\n",
    "      params = list(map(init_layer, keys, layers[:-1], layers[1:]))\n",
    "      return params\n",
    "  def apply(params, inputs):\n",
    "      for W, b in params[:-1]:\n",
    "          outputs = np.dot(inputs, W) + b\n",
    "          inputs = activation(outputs)\n",
    "      W, b = params[-1]\n",
    "      outputs = np.dot(inputs, W) + b\n",
    "      return outputs\n",
    "  return init, apply"
   ]
  },
  {
   "cell_type": "code",
   "execution_count": 10,
   "metadata": {
    "id": "4ckGVVDAYCB7"
   },
   "outputs": [],
   "source": [
    "# Define the model\n",
    "class PI_DeepONet:\n",
    "    def __init__(self, branch_layers, trunk_layers):    \n",
    "        # Network initialization and evaluation functions\n",
    "        dim=100\n",
    "        #self.branch_init, self.branch_apply = MLP(branch_layers, activation=np.tanh)\n",
    "        self.branch_init, self.branch_apply, self.branch_inverse, self.jacobian  = Serial(*(RealNVP(branch_layers), Reverse(dim))*3)\n",
    "        self.trunk_init, self.trunk_apply = MLP(trunk_layers, activation=np.tanh)\n",
    "\n",
    "        # Initialize\n",
    "        #branch_params = self.branch_init(rng_key = random.PRNGKey(1234))\n",
    "        branch_params = self.branch_init(rng_key = random.PRNGKey(1234))\n",
    "        trunk_params = self.trunk_init(rng_key = random.PRNGKey(4321))\n",
    "        params = (branch_params, trunk_params)\n",
    "\n",
    "        # Use optimizers to set optimizer initialization and update functions\n",
    "        self.opt_init, \\\n",
    "        self.opt_update, \\\n",
    "        self.get_params = optimizers.adam(optimizers.exponential_decay(1e-3, \n",
    "                                                                      decay_steps=2000, \n",
    "                                                                      decay_rate=0.9))\n",
    "        self.opt_state = self.opt_init(params)\n",
    "\n",
    "        # Used to restore the trained model parameters\n",
    "        _, self.unravel_params = ravel_pytree(params)\n",
    "\n",
    "        self.itercount = itertools.count()\n",
    "        \n",
    "        #Prediction over a grid for one input sample \n",
    "        self.s_pred_fn = vmap(self.operator_net_single, (None, None, 0,0))\n",
    "\n",
    "        # Loggers\n",
    "        self.loss_log = []\n",
    "        self.loss_bcs_log = []\n",
    "        self.loss_res_log = []\n",
    "\n",
    "    # Define DeepONet architecture\n",
    "    def operator_net(self, params, u, x, t):\n",
    "        branch_params, trunk_params = params\n",
    "        y = np.stack([x, t],axis=1)\n",
    "        B = self.branch_apply(branch_params, u)\n",
    "        T = self.trunk_apply(trunk_params, y)\n",
    "        outputs = np.dot(T,B)\n",
    "        return  outputs\n",
    "    \n",
    "    \n",
    "    def operator_net_single(self, params, u, x, t):\n",
    "        branch_params, trunk_params = params\n",
    "        y = np.stack([x, t])\n",
    "        B = self.branch_apply(branch_params, u)\n",
    "        T = self.trunk_apply(trunk_params, y)\n",
    "        outputs = np.sum(B * T)\n",
    "        return  outputs\n",
    "  \n",
    "\n",
    "    def INVoperator_net(self, params, s, y):\n",
    "        branch_params, trunk_params = params\n",
    "\n",
    "        T = self.trunk_apply(trunk_params, y)\n",
    "        T_r= lax.batch_matmul(np.transpose(T),T)#T_resnp.linalg.pinv(#s.shape[1]\n",
    "        br=lax.batch_matmul(np.transpose(T),np.reshape(s,[s.shape[0],1]))[:,0]\n",
    "        bu=np.linalg.solve((T_r+1e-2*np.eye(100)),br)\n",
    "        outputs = self.branch_inverse(branch_params, bu)\n",
    "        return  outputs\n",
    "\n",
    "\n",
    "  \n",
    "    # Define ODE/PDE residual\n",
    "    def residual_net(self, params, u, x, t):\n",
    "        s = self.operator_net(params, u, x, t)\n",
    "        s_t = vmap(grad(self.operator_net_single, argnums=3),(None,None,0,0))(params, u, x, t)\n",
    "        s_x = vmap(grad(self.operator_net_single, argnums=2),(None,None,0,0))(params, u, x, t)\n",
    "        s_xx= vmap(grad(grad(self.operator_net_single, argnums=2), argnums=2),(None,None,0,0))(params, u, x, t)\n",
    "\n",
    "        res = s_t - 0.01 * s_xx - 0.01 * s**2 \n",
    "        return res\n",
    "\n",
    "    # Define boundary loss\n",
    "    def loss_bcs(self, params, batch):\n",
    "        inputs, outputs = batch\n",
    "        u, y = inputs\n",
    "\n",
    "        # Compute forward pass\n",
    "        s_pred = vmap(self.s_pred_fn, (None, 0, 0, 0))(params, u, y[:,:,0], y[:,:,1])\n",
    "\n",
    "        # Compute loss\n",
    "        loss = np.mean((outputs.flatten() - s_pred.flatten())**2)\n",
    "        return loss\n",
    "\n",
    "    # Define residual loss\n",
    "    def loss_res(self, params, batch):\n",
    "        # Fetch data\n",
    "        # inputs: (u1, y), shape = (Nxm, m), (Nxm,1)\n",
    "        # outputs: u2, shape = (Nxm, 1)\n",
    "        inputs, outputs = batch\n",
    "        u, y = inputs\n",
    "        # Compute forward pass\n",
    "        pred = vmap(self.residual_net, (None, 0, 0, 0))(params, u, y[:,:,0], y[:,:,1])\n",
    "\n",
    "        # Compute loss\n",
    "        loss = np.mean((outputs.flatten() - pred.flatten())**2)\n",
    "        \n",
    "        \n",
    "        s_pred = vmap(self.s_pred_fn, (None, 0, 0,0))(params, u, y[:,:,0], y[:,:,1])#, y[:,1]\n",
    "        u_pred = vmap(self.INVoperator_net, (None, 0, 0))(params, s_pred, y)\n",
    "        \n",
    "        \n",
    "        loss=loss+np.mean((u.flatten() - u_pred.flatten())**2)\n",
    "        \n",
    "        return loss  \n",
    "    \n",
    "    \n",
    "        # Define supervised inverse loss\n",
    "    def loss_inv(self, params, batch):\n",
    "        inputs, outputs = batch\n",
    "        u, y = inputs\n",
    "                \n",
    "        u_pred = vmap(self.INVoperator_net, (None, 0, 0))(params, outputs, y)\n",
    "        \n",
    "        \n",
    "        loss=np.mean((u.flatten() - u_pred.flatten())**2)\n",
    "        \n",
    "        return loss   \n",
    "\n",
    "    # Define total loss\n",
    "    def loss(self, params, bcs_batch, res_batch,op_batch):\n",
    "        loss_bcs = self.loss_bcs(params, bcs_batch)\n",
    "        loss_super = self.loss_bcs(params, op_batch)\n",
    "        loss_res = self.loss_res(params, res_batch)\n",
    "        loss_inv= self.loss_inv(params,op_batch)\n",
    "        loss = loss_bcs +loss_super + loss_res+loss_inv\n",
    "        return loss \n",
    "\n",
    "    # Define a compiled update step\n",
    "    @partial(jit, static_argnums=(0,))\n",
    "    def step(self, i, opt_state, bcs_batch, res_batch,op_batch):\n",
    "        params = self.get_params(opt_state)\n",
    "        g = grad(self.loss)(params, bcs_batch, res_batch,op_batch)\n",
    "        return self.opt_update(i, g, opt_state)\n",
    "\n",
    "    # Optimize parameters in a loop\n",
    "    def train(self, bcs_dataset, res_dataset,op_dataset, nIter = 10000):\n",
    "        # Define data iterators\n",
    "        bcs_data = iter(bcs_dataset)\n",
    "        res_data = iter(res_dataset)\n",
    "        op_data=iter(op_dataset)\n",
    "\n",
    "        pbar = trange(nIter)\n",
    "        # Main training loop\n",
    "        for it in pbar:\n",
    "            # Fetch data\n",
    "            bcs_batch= next(bcs_data)\n",
    "            res_batch = next(res_data)\n",
    "            op_batch =next(op_data)\n",
    "\n",
    "            self.opt_state = self.step(next(self.itercount), self.opt_state, bcs_batch, res_batch,op_batch)\n",
    "            \n",
    "            if it % 100 == 0:\n",
    "                params = self.get_params(self.opt_state)\n",
    "\n",
    "                # Compute losses\n",
    "                loss_value = self.loss(params, bcs_batch, res_batch,op_batch)\n",
    "                loss_bcs_value = self.loss_bcs(params, bcs_batch)\n",
    "                loss_super_value = self.loss_bcs(params, op_batch)\n",
    "                loss_res_value = self.loss_res(params, res_batch)\n",
    "                loss_inv_value= self.loss_inv(params,op_batch)\n",
    "\n",
    "                # Store losses\n",
    "                self.loss_log.append(loss_value)\n",
    "                self.loss_bcs_log.append(loss_bcs_value)\n",
    "                self.loss_res_log.append(loss_res_value)\n",
    "\n",
    "                # Print losses\n",
    "                pbar.set_postfix({'Loss': loss_value, \n",
    "                                  'loss_bcs' : loss_bcs_value, \n",
    "                                  'loss_super':loss_super_value,\n",
    "                                  'loss_inv':loss_inv_value,\n",
    "                                  'loss_physics': loss_res_value})\n",
    "           \n",
    "    # Evaluates predictions at test points  \n",
    "    @partial(jit, static_argnums=(0,))\n",
    "    def predict_s(self, params, U_star, Y_star):\n",
    "        s_pred = vmap(self.s_pred_fn, (None, 0, 0, 0))(params, U_star, Y_star[:,:,0], Y_star[:,:,1])\n",
    "        return s_pred\n",
    "\n",
    "    @partial(jit, static_argnums=(0,))\n",
    "    def predict_res(self, params, U_star, Y_star):\n",
    "        r_pred = vmap(self.residual_net, (None, 0, 0, 0))(params, U_star, Y_star[:,:,0], Y_star[:,:,1])\n",
    "        return r_pred\n",
    "    \n",
    "    @partial(jit, static_argnums=(0,))\n",
    "    def predict_INV(self, params, S_star, Y_star):\n",
    "        r_pred = vmap(self.INVoperator_net, (None, 0, 0))(params, S_star, Y_star)\n",
    "        return r_pred\n",
    "    "
   ]
  },
  {
   "cell_type": "code",
   "execution_count": 11,
   "metadata": {
    "id": "EyGqzSnIv211"
   },
   "outputs": [],
   "source": [
    "# Use double precision to generate data (due to GP sampling)\n",
    "def RBF(x1, x2, params):\n",
    "    output_scale, lengthscales = params\n",
    "    diffs = np.expand_dims(x1 / lengthscales, 1) - \\\n",
    "            np.expand_dims(x2 / lengthscales, 0)\n",
    "    r2 = np.sum(diffs**2, axis=2)\n",
    "    return output_scale * np.exp(-0.5 * r2)\n",
    "\n",
    "# A diffusion-reaction numerical solver\n",
    "def solve_ADR(key, Nx, Nt, P, length_scale):\n",
    "    \"\"\"Solve 1D\n",
    "    u_t = (k(x) u_x)_x - v(x) u_x + g(u) + f(x)\n",
    "    with zero initial and boundary conditions.\n",
    "    \"\"\"\n",
    "    xmin, xmax = 0, 1\n",
    "    tmin, tmax = 0, 1\n",
    "    k = lambda x: 0.01*np.ones_like(x)\n",
    "    v = lambda x: np.zeros_like(x)\n",
    "    g = lambda u: 0.01*u ** 2\n",
    "    dg = lambda u: 0.02 * u\n",
    "    u0 = lambda x: np.zeros_like(x)\n",
    "\n",
    "    # Generate subkeys\n",
    "    subkeys = random.split(key, 2)\n",
    "\n",
    "    # Generate a GP sample\n",
    "    N = 512\n",
    "    gp_params = (1.0, length_scale)\n",
    "    jitter = 0.#1e-10\n",
    "    X = np.linspace(xmin, xmax, N)[:,None]\n",
    "    K = RBF(X, X, gp_params)+np.eye(512)*1e-6\n",
    "    L = np.linalg.cholesky(K + jitter*np.eye(N))\n",
    "    gp_sample = np.dot(L, random.normal(subkeys[0], (N,)))\n",
    "    # Create a callable interpolation function  \n",
    "    f_fn = lambda x: np.interp(x, X.flatten(), gp_sample)\n",
    "\n",
    "    # Create grid\n",
    "    x = np.linspace(xmin, xmax, Nx)\n",
    "    t = np.linspace(tmin, tmax, Nt)\n",
    "    h = x[1] - x[0]\n",
    "    dt = t[1] - t[0]\n",
    "    h2 = h ** 2\n",
    "\n",
    "    # Compute coefficients and forcing\n",
    "    k = k(x)\n",
    "    v = v(x)\n",
    "    f = f_fn(x)\n",
    "\n",
    "    # Compute finite difference operators\n",
    "    D1 = np.eye(Nx, k=1) - np.eye(Nx, k=-1)\n",
    "    D2 = -2 * np.eye(Nx) + np.eye(Nx, k=-1) + np.eye(Nx, k=1)\n",
    "    D3 = np.eye(Nx - 2)\n",
    "    M = -np.diag(D1 @ k) @ D1 - 4 * np.diag(k) @ D2\n",
    "    m_bond = 8 * h2 / dt * D3 + M[1:-1, 1:-1]\n",
    "    v_bond = 2 * h * np.diag(v[1:-1]) @ D1[1:-1, 1:-1] + 2 * h * np.diag(\n",
    "        v[2:] - v[: Nx - 2]\n",
    "    )\n",
    "    mv_bond = m_bond + v_bond\n",
    "    c = 8 * h2 / dt * D3 - M[1:-1, 1:-1] - v_bond\n",
    "\n",
    "    # Initialize solution and apply initial condition\n",
    "    u = np.zeros((Nx, Nt))\n",
    "    u = u.at[:,0].set(u0(x))#u = index_update(u, index[:,0], u0(x))\n",
    "    # Time-stepping update\n",
    "    def body_fn(i, u):\n",
    "        gi = g(u[1:-1, i])\n",
    "        dgi = dg(u[1:-1, i])\n",
    "        h2dgi = np.diag(4 * h2 * dgi)\n",
    "        A = mv_bond - h2dgi\n",
    "        b1 = 8 * h2 * (0.5 * f[1:-1] + 0.5 * f[1:-1] + gi)\n",
    "        b2 = (c - h2dgi) @ u[1:-1, i].T\n",
    "        u = u.at[1:-1,i+1].set(np.linalg.solve(A, b1 + b2))\n",
    "        return u\n",
    "    # Run loop\n",
    "    UU = lax.fori_loop(0, Nt-1, body_fn, u)\n",
    "\n",
    "    # Input sensor locations and measurements\n",
    "    xx = np.linspace(xmin, xmax, m)\n",
    "    u = f_fn(xx)\n",
    "    # Output sensor locations and measurements\n",
    "    idx = random.randint(subkeys[1], (P,2), 0, max(Nx,Nt))\n",
    "    y = np.concatenate([x[idx[:,0]][:,None], t[idx[:,1]][:,None]], axis = 1)\n",
    "    s = UU[idx[:,0], idx[:,1]]\n",
    "    # x, t: sampled points on grid\n",
    "    return (x, t, UU), (u, y, s)\n",
    "\n",
    "# Geneate training data corresponding to one input sample\n",
    "def generate_one_training_data(key, P, Q):\n",
    "    # Numerical solution\n",
    "    (x, t, UU), (u, y, s) = solve_ADR(key, Nx , Nt, P, length_scale)\n",
    "\n",
    "    # Geneate subkeys\n",
    "    subkeys = random.split(key, 4)\n",
    "\n",
    "    # Sample points from the boundary and the inital conditions\n",
    "    # Here we regard the initial condition as a special type of boundary conditions\n",
    "    x_bc1 = np.zeros((P // 3, 1))\n",
    "    x_bc2 = np.ones((P // 3, 1))\n",
    "    x_bc3 = random.uniform(key = subkeys[0], shape = (P // 3, 1))\n",
    "    x_bcs = np.vstack((x_bc1, x_bc2, x_bc3))\n",
    "\n",
    "    t_bc1 = random.uniform(key = subkeys[1], shape = (P//3 * 2, 1))\n",
    "    t_bc2 = np.zeros((P//3, 1))\n",
    "    t_bcs = np.vstack([t_bc1, t_bc2])\n",
    "\n",
    "    # Training data for BC and IC\n",
    "    u_train = u#np.tile(u, (P,1))\n",
    "    y_train = np.hstack([x_bcs, t_bcs])\n",
    "    s_train = np.zeros((P, 1))\n",
    "\n",
    "    # Sample collocation points\n",
    "    x_r_idx= random.choice(subkeys[2], np.arange(Nx), shape = (Q,1))\n",
    "    x_r = x[x_r_idx]\n",
    "    t_r = random.uniform(subkeys[3], minval = 0, maxval = 1, shape = (Q,1))\n",
    "\n",
    "    # Training data for the PDE residual\n",
    "    u_r_train = u#np.tile(u, (Q,1))\n",
    "    y_r_train = np.hstack([x_r, t_r])\n",
    "    s_r_train = u[x_r_idx]\n",
    "    \n",
    "    s2 = s[x_r_idx]\n",
    "    #r_rr=t[x_r_idx]\n",
    "    y2= y[x_r_idx,:]\n",
    "\n",
    "    return u_train, y_train, s_train, u_r_train, y_r_train, s_r_train, u,y2[:,0,:],s2#[:,0]\n",
    "\n",
    "# Geneate test data corresponding to one input sample\n",
    "def generate_one_test_data(key, P):\n",
    "    Nx = P\n",
    "    Nt = P\n",
    "    (x, t, UU), (u, y, s) = solve_ADR(key, Nx , Nt, P, length_scale)\n",
    "\n",
    "    XX, TT = np.meshgrid(x, t)\n",
    "\n",
    "    #u_test = np.tile(u, (P**2,1))\n",
    "    y_test = np.hstack([XX.flatten()[:,None], TT.flatten()[:,None]])\n",
    "    s_test = UU.T.flatten()\n",
    "\n",
    "    return u, y_test, s_test,y,s\n",
    "\n",
    "# Geneate training data corresponding to N input sample\n",
    "def generate_training_data(key, N, P, Q):\n",
    "    config.update(\"jax_enable_x64\", True)\n",
    "    keys = random.split(key, N)\n",
    "    u_train, y_train, s_train, u_r_train, y_r_train, s_r_train,u_t2,y_t2,s_t2 = vmap(generate_one_training_data, (0, None, None))(keys, P, Q)\n",
    "\n",
    "    config.update(\"jax_enable_x64\", False)\n",
    "    return u_train, y_train, s_train, u_r_train, y_r_train,  s_r_train,np.float32(u_t2),np.float32(y_t2),np.float32(s_t2)\n",
    "\n",
    "# Geneate test data corresponding to N input sample\n",
    "def generate_test_data(key, N, P):\n",
    "\n",
    "    config.update(\"jax_enable_x64\", True)\n",
    "    keys = random.split(key, N)\n",
    "\n",
    "    u_test, y_test, s_test,y,s = vmap(generate_one_test_data, (0, None))(keys, P)\n",
    "\n",
    "    u_test = np.float32(u_test)#.reshape(N * P**2,-1))\n",
    "    y_test = np.float32(y_test)#.reshape(N * P**2,-1))\n",
    "    s_test = np.float32(s_test)#.reshape(N * P**2,-1))\n",
    "    y_random = np.float32(y)\n",
    "    s_random = np.float32(s)\n",
    "\n",
    "    config.update(\"jax_enable_x64\", False)\n",
    "    return u_test, y_test, s_test, y_random, s_random\n",
    "\n",
    "# Compute relative l2 error over N test samples.\n",
    "def compute_error(key, P):\n",
    "    # Generate one test sample\n",
    "    u_test, y_test, s_test,y,s = generate_test_data(key, 1, P)\n",
    "    # Predict  \n",
    "    s_pred = model.predict_s(params, u_test, y_test)[:,None]\n",
    "    # Compute relative l2 error\n",
    "    error_s = np.linalg.norm(s_test - s_pred) / np.linalg.norm(s_test) \n",
    "    return error_s\n",
    "\n",
    "\n",
    "# Compute relative l2 error over N test samples.\n",
    "def compute_INVerror(key, P):\n",
    "    # Generate one test sample\n",
    "    u_test, y_test, s_test,y,s = generate_test_data(key, 1, P)\n",
    "    # Predict  \n",
    "    u_pred = model.predict_INV(params, s, y)[:,None]\n",
    "    # Compute relative l2 error\n",
    "    error_s = np.linalg.norm(u_test - u_pred) / np.linalg.norm(u_test) \n",
    "    return error_s"
   ]
  },
  {
   "cell_type": "code",
   "execution_count": 12,
   "metadata": {
    "id": "s4o8uU971yfJ"
   },
   "outputs": [],
   "source": [
    "key = random.PRNGKey(0)\n",
    "\n",
    "# GRF length scale\n",
    "length_scale = 0.2\n",
    "\n",
    "# Resolution of the solution\n",
    "Nx = 100\n",
    "Nt = 100\n",
    "\n",
    "N = 5000 # number of input samples\n",
    "m = Nx   # number of input sensors\n",
    "P_train = 300 # number of output sensors, 100 for each side \n",
    "Q_train = 200  # number of collocation points for each input sample\n",
    "\n",
    "u_bcs_train, y_bcs_train, s_bcs_train, u_res_train, y_res_train, s_res_train,u_t2,y_t2,s_t2 = generate_training_data(key, N, P_train, Q_train)"
   ]
  },
  {
   "cell_type": "code",
   "execution_count": 13,
   "metadata": {
    "id": "ZdbEC_IV5d8r"
   },
   "outputs": [],
   "source": [
    "# Initialize model\n",
    "branch_layers = [m, 100,100,100]\n",
    "trunk_layers =  [2,100,100,100,100,100]\n",
    "model = PI_DeepONet(branch_layers, trunk_layers)"
   ]
  },
  {
   "cell_type": "code",
   "execution_count": 14,
   "metadata": {
    "id": "FDVeE-dk6I35"
   },
   "outputs": [],
   "source": [
    "# Create data set\n",
    "batch_size = 100\n",
    "bcs_dataset = DataGenerator(u_bcs_train, y_bcs_train, s_bcs_train, batch_size)\n",
    "res_dataset = DataGenerator(u_res_train, y_res_train, s_res_train, batch_size)\n",
    "op_dataset= DataGenerator(u_t2[::10,:],y_t2[::10,:,:],s_t2[::10,:,:], 10)"
   ]
  },
  {
   "cell_type": "code",
   "execution_count": 15,
   "metadata": {
    "colab": {
     "base_uri": "https://localhost:8080/"
    },
    "id": "RYb9vB0h7Kzl",
    "outputId": "8238b9a7-0090-4aaa-c52e-39ff0f0f9ded"
   },
   "outputs": [],
   "source": [
    "# Train\n",
    "#model.train(bcs_dataset, res_dataset,op_dataset, nIter=120000)\n"
   ]
  },
  {
   "cell_type": "code",
   "execution_count": 16,
   "metadata": {},
   "outputs": [],
   "source": [
    "#from jax.flatten_util import ravel_pytree\n",
    "#flat_params, _  = ravel_pytree(model.get_params(model.opt_state))\n",
    "#np.save('RD_params.npy', flat_params)"
   ]
  },
  {
   "cell_type": "code",
   "execution_count": 113,
   "metadata": {},
   "outputs": [],
   "source": [
    "from jax.flatten_util import ravel_pytree\n",
    "_, param_fun  = ravel_pytree(model.get_params(model.opt_state))\n",
    "params=param_fun(np.load('RD_parameters.npy'))"
   ]
  },
  {
   "cell_type": "code",
   "execution_count": null,
   "metadata": {},
   "outputs": [],
   "source": [
    "#Start of the Bayesian inverse problem"
   ]
  },
  {
   "cell_type": "code",
   "execution_count": 16,
   "metadata": {},
   "outputs": [],
   "source": [
    "#Generate smaples of prior and fit a GMM\n",
    "branch_params, trunk_params = params\n",
    "B = vmap(model.branch_apply,(None,0))(branch_params, np.float32(u_res_train))"
   ]
  },
  {
   "cell_type": "code",
   "execution_count": 17,
   "metadata": {},
   "outputs": [],
   "source": [
    "gm =GaussianMixture(n_components=2,covariance_type='full',max_iter=2000,random_state=0).fit(B)"
   ]
  },
  {
   "cell_type": "code",
   "execution_count": 18,
   "metadata": {},
   "outputs": [],
   "source": [
    "# Generate one test sample\n",
    "key = random.PRNGKey(12345)\n",
    "P_test = 100\n",
    "Nx = m\n",
    "u_test, y_test, s_test,y,s = generate_test_data(key, 1, P_test)"
   ]
  },
  {
   "cell_type": "code",
   "execution_count": 69,
   "metadata": {},
   "outputs": [],
   "source": [
    "sigma_sqaure=0.01"
   ]
  },
  {
   "cell_type": "code",
   "execution_count": 70,
   "metadata": {},
   "outputs": [],
   "source": [
    "T = model.trunk_apply(trunk_params, y[:,::])"
   ]
  },
  {
   "cell_type": "code",
   "execution_count": 71,
   "metadata": {},
   "outputs": [],
   "source": [
    "#Generate input with noise\n",
    "s_ob_n=onp.reshape(s[0,::],[100,1])\n",
    "cov_ob=onp.eye(100)*sigma_sqaure\n",
    "s_ob=onp.reshape(onp.random.multivariate_normal(s_ob_n[:,0],cov_ob),[100,1])"
   ]
  },
  {
   "cell_type": "code",
   "execution_count": 72,
   "metadata": {},
   "outputs": [],
   "source": [
    "TT=T[0,:,:]"
   ]
  },
  {
   "cell_type": "code",
   "execution_count": 73,
   "metadata": {},
   "outputs": [],
   "source": [
    "#Calculations as described in the paper to find the analytical posterior\n",
    "C_inv=(onp.linalg.inv(gm.covariances_[0,:,:])+(1./sigma_sqaure)*onp.transpose(TT)@TT)#[0,:,:]\n",
    "C_inv2=(onp.linalg.inv(gm.covariances_[1,:,:])+(1./sigma_sqaure)*onp.transpose(TT)@TT)#[0,:,:]"
   ]
  },
  {
   "cell_type": "code",
   "execution_count": 74,
   "metadata": {},
   "outputs": [],
   "source": [
    "m_inv= (onp.linalg.inv(gm.covariances_[0,:,:])@onp.reshape(gm.means_[0,:],[100,1])+(1./sigma_sqaure)*onp.transpose(TT)@s_ob)#[0,:,:]\n",
    "m_inv2= (onp.linalg.inv(gm.covariances_[1,:,:])@onp.reshape(gm.means_[1,:],[100,1])+(1./sigma_sqaure)*onp.transpose(TT)@s_ob)#[0,:,:]"
   ]
  },
  {
   "cell_type": "code",
   "execution_count": 75,
   "metadata": {},
   "outputs": [],
   "source": [
    "D1=sigma_sqaure*np.eye(100)+TT@gm.covariances_[0,:,:]@TT.T\n",
    "D2=sigma_sqaure*np.eye(100)+TT@gm.covariances_[1,:,:]@TT.T"
   ]
  },
  {
   "cell_type": "code",
   "execution_count": 76,
   "metadata": {},
   "outputs": [],
   "source": [
    "#for gmm\n",
    "w1=onp.math.log(gm.weights_[0])-0.5*onp.linalg.slogdet(D1)[1]-0.5*onp.transpose(s_ob-TT@np.reshape(gm.means_[0,:],[100,1]))@onp.linalg.inv(D1)@(s_ob-TT@np.reshape(gm.means_[0,:],[100,1]))\n",
    "w2=onp.math.log(gm.weights_[1])-0.5*onp.linalg.slogdet(D2)[1]-0.5*onp.transpose(s_ob-TT@np.reshape(gm.means_[1,:],[100,1]))@onp.linalg.inv(D2)@(s_ob-TT@np.reshape(gm.means_[1,:],[100,1]))"
   ]
  },
  {
   "cell_type": "code",
   "execution_count": 77,
   "metadata": {},
   "outputs": [],
   "source": [
    "w_1=w1-np.maximum(w1,w2)\n",
    "w_2=w2-np.maximum(w1,w2)"
   ]
  },
  {
   "cell_type": "code",
   "execution_count": 78,
   "metadata": {},
   "outputs": [],
   "source": [
    "w1n=onp.exp(w_1)/(onp.exp(w_1)+onp.exp(w_2))\n",
    "w2n=onp.exp(w_2)/(onp.exp(w_1)+onp.exp(w_2))"
   ]
  },
  {
   "cell_type": "code",
   "execution_count": 100,
   "metadata": {},
   "outputs": [],
   "source": [
    "cov_b=onp.linalg.inv(C_inv)\n",
    "cov_b2=onp.linalg.inv(C_inv2)"
   ]
  },
  {
   "cell_type": "code",
   "execution_count": 94,
   "metadata": {},
   "outputs": [],
   "source": [
    "mu_b=np.linalg.solve(C_inv,m_inv)[:,0]\n",
    "mu_b2=np.linalg.solve(C_inv2,m_inv2)[:,0]"
   ]
  },
  {
   "cell_type": "code",
   "execution_count": null,
   "metadata": {},
   "outputs": [],
   "source": [
    "#Sample from the posterior for the branch output\n",
    "b_post_samples=onp.zeros((10000,100))\n",
    "for tmp in range(10000):\n",
    "    if onp.random.rand()<w1n:\n",
    "        b_post_samples[tmp,:]=onp.random.multivariate_normal(mu_b,cov_b)\n",
    "    else:\n",
    "        b_post_samples[tmp,:]=onp.random.multivariate_normal(mu_b2,cov_b2)"
   ]
  },
  {
   "cell_type": "code",
   "execution_count": 112,
   "metadata": {},
   "outputs": [
    {
     "name": "stdout",
     "output_type": "stream",
     "text": [
      "True\n",
      "True\n",
      "True\n",
      "True\n"
     ]
    }
   ],
   "source": [
    "#Sometimes the above gives a warning due to small numerical errors introduced during the calculations.\n",
    "#However, all eigenvalues are positive and the matrix is symmetric using a reosable tolernace level:\n",
    "print( onp.all(onp.linalg.eigvals(cov_b) > 0) )\n",
    "print(onp.allclose(cov_b, cov_b.T, rtol=1e-04, atol=1e-05))\n",
    "print( onp.all(onp.linalg.eigvals(cov_b2) > 0) )\n",
    "print(onp.allclose(cov_b2, cov_b2.T, rtol=1e-04, atol=1e-05))"
   ]
  },
  {
   "cell_type": "code",
   "execution_count": 82,
   "metadata": {},
   "outputs": [],
   "source": [
    "#Use inverse pass to get samples of the branch network input\n",
    "out_u = vmap(model.branch_inverse,(None,0))(branch_params, b_post_samples)"
   ]
  },
  {
   "cell_type": "code",
   "execution_count": 83,
   "metadata": {},
   "outputs": [],
   "source": [
    "plt.rcParams.update({'font.size': 14})"
   ]
  },
  {
   "cell_type": "code",
   "execution_count": 84,
   "metadata": {},
   "outputs": [
    {
     "data": {
      "text/plain": [
       "(0.0, 1.0, -2.5, 2.0)"
      ]
     },
     "execution_count": 84,
     "metadata": {},
     "output_type": "execute_result"
    },
    {
     "data": {
      "image/png": "[encoded data removed]",
      "text/plain": [
       "<Figure size 640x480 with 1 Axes>"
      ]
     },
     "metadata": {},
     "output_type": "display_data"
    }
   ],
   "source": [
    "# Solution based on Inverse Modell and GMM Prior\n",
    "xxx=onp.linspace(0,1,100)\n",
    "plt.plot(xxx,onp.mean(out_u,axis=0),label='Posterior Mean')\n",
    "plt.fill_between(xxx,(onp.mean(out_u,axis=0)-2*onp.std(out_u,axis=0)),(onp.mean(out_u,axis=0)+2*onp.std(out_u,axis=0)),alpha=0.3,label='+/- 2 Standard Deviation')\n",
    "plt.xlabel('x')\n",
    "plt.ylabel('u')\n",
    "\n",
    "plt.plot(xxx,u_test[0,:],label='Reference Solution')\n",
    "plt.legend()\n",
    "plt.axis([0,1,-2.5,2.00])"
   ]
  },
  {
   "cell_type": "code",
   "execution_count": null,
   "metadata": {},
   "outputs": [],
   "source": []
  }
 ],
 "metadata": {
  "accelerator": "GPU",
  "colab": {
   "collapsed_sections": [],
   "name": "PI_DeepONet_DR.ipynb",
   "provenance": []
  },
  "kernelspec": {
   "display_name": "Python 3 (ipykernel)",
   "language": "python",
   "name": "python3"
  },
  "language_info": {
   "codemirror_mode": {
    "name": "ipython",
    "version": 3
   },
   "file_extension": ".py",
   "mimetype": "text/x-python",
   "name": "python",
   "nbconvert_exporter": "python",
   "pygments_lexer": "ipython3",
   "version": "3.9.12"
  }
 },
 "nbformat": 4,
 "nbformat_minor": 1
}
